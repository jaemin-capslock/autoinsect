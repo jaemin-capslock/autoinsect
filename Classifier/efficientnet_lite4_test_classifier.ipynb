{
 "cells": [
  {
   "cell_type": "code",
   "execution_count": null,
   "metadata": {
    "collapsed": true
   },
   "outputs": [],
   "source": [
    "import numpy as np\n",
    "import tensorflow as tf\n",
    "import tensorflow.keras as keras\n",
    "import tensorflow_hub as hub\n",
    "import matplotlib.pyplot as plt\n",
    "import os\n",
    "from PIL import Image\n",
    "from PIL import ImageFile\n",
    "\n"
   ]
  },
  {
   "cell_type": "code",
   "execution_count": null,
   "outputs": [],
   "source": [
    "module_selection = (\"efficientnet\", 380)\n",
    "handle_base, pixels = module_selection\n",
    "MODULE_HANDLE = \"https://tfhub.dev/tensorflow/efficientnet/lite4/feature-vector/2\"\n",
    "IMAGE_SIZE = (pixels, pixels)\n",
    "print(\"Using {} with input size {}\".format(MODULE_HANDLE, IMAGE_SIZE))\n",
    "\n",
    "\n"
   ],
   "metadata": {
    "collapsed": false,
    "pycharm": {
     "name": "#%%\n"
    }
   }
  },
  {
   "cell_type": "code",
   "execution_count": null,
   "outputs": [],
   "source": [
    "data_core_dir = r\"D:/Betastop_dataset/insect_dataset\"\n",
    "BATCH_SIZE = 32\n",
    "from tensorflow.keras.preprocessing.image import ImageDataGenerator\n",
    "TRAINING_DIR = data_core_dir + r\"/_train\"\n",
    "train_datagen = ImageDataGenerator(rescale=1./255,\n",
    "      rotation_range=40,\n",
    "      width_shift_range=0.2,\n",
    "      height_shift_range=0.2,\n",
    "      shear_range=0.2,\n",
    "      zoom_range=0.2,\n",
    "      horizontal_flip=True,\n",
    "      fill_mode='nearest')\n",
    "train_generator = train_datagen.flow_from_directory(TRAINING_DIR,\n",
    "                                                    batch_size=32,\n",
    "                                                    class_mode='categorical',\n",
    "                                                    target_size=(380, 380))\n",
    "VALIDATION_DIR= data_core_dir + r\"/_validation\"\n",
    "validation_datagen = ImageDataGenerator(rescale=1./255,\n",
    "      )\n",
    "validation_generator = validation_datagen.flow_from_directory(VALIDATION_DIR,\n",
    "                                                              batch_size=32,\n",
    "                                                              class_mode='categorical',\n",
    "                                                              target_size=(380, 380))\n",
    "TEST_DIR = data_core_dir + r\"/_test\"\n",
    "test_datagen = ImageDataGenerator(rescale=1./255,\n",
    "     )\n",
    "test_generator = test_datagen.flow_from_directory(TEST_DIR,\n",
    "                                                              batch_size=32,\n",
    "                                                              class_mode='categorical',\n",
    "                                                              target_size=(380, 380))\n",
    "\n",
    "\n",
    "\n",
    "\n"
   ],
   "metadata": {
    "collapsed": false,
    "pycharm": {
     "name": "#%%\n"
    }
   }
  },
  {
   "cell_type": "code",
   "execution_count": null,
   "outputs": [],
   "source": [
    "print(\"Using \" + handle_base + \", we will build a new classifier!\")\n",
    "model = keras.Sequential([\n",
    "    keras.layers.InputLayer(input_shape=IMAGE_SIZE + (3,)),\n",
    "    hub.KerasLayer(MODULE_HANDLE, trainable=False),\n",
    "    keras.layers.Dropout(rate=0.2),\n",
    "    keras.layers.Dense(4,\n",
    "                       activation= \"softmax\",\n",
    "                       kernel_regularizer=keras.regularizers.l2(0.0001))\n",
    "])\n",
    "model.build((None,)+IMAGE_SIZE+(3,))\n",
    "model.summary()\n"
   ],
   "metadata": {
    "collapsed": false,
    "pycharm": {
     "name": "#%%\n"
    }
   }
  },
  {
   "cell_type": "code",
   "execution_count": null,
   "outputs": [],
   "source": [
    "model.compile(optimizer = keras.optimizers.Adam(lr=0.0001),\n",
    "              loss = keras.losses.categorical_crossentropy,\n",
    "              metrics= ['accuracy'])\n",
    "\n"
   ],
   "metadata": {
    "collapsed": false,
    "pycharm": {
     "name": "#%%\n"
    }
   }
  },
  {
   "cell_type": "code",
   "execution_count": null,
   "outputs": [],
   "source": [
    "ImageFile.LOAD_TRUNCATED_IMAGES = True ##solves PIL errors as we've resized some of the images\n",
    "history = model.fit(train_generator,\n",
    "                    epochs = 10,\n",
    "                    verbose = 1,\n",
    "                    validation_data=validation_generator)\n",
    "\n",
    "\n",
    "\n"
   ],
   "metadata": {
    "collapsed": false,
    "pycharm": {
     "name": "#%%\n"
    }
   }
  },
  {
   "cell_type": "code",
   "execution_count": null,
   "outputs": [],
   "source": [
    "\n",
    "acc = history.history['accuracy']\n",
    "val_acc = history.history['val_accuracy']\n",
    "loss = history.history['loss']\n",
    "val_loss = history.history['val_loss']\n",
    "epochs = range(len(acc))\n",
    "\n",
    "plt.plot(epochs, acc, 'r', \"Training Accuracy\")\n",
    "plt.plot(epochs, val_acc, 'b', \"Validation Accuracy\")\n",
    "plt.axis([0, 10, 0.8, 1])\n",
    "plt.title('Training and validation accuracy')\n",
    "plt.figure()\n"
   ],
   "metadata": {
    "collapsed": false,
    "pycharm": {
     "name": "#%%\n"
    }
   }
  },
  {
   "cell_type": "code",
   "execution_count": null,
   "outputs": [],
   "source": [
    "model.evaluate(test_generator)\n",
    "\n",
    "\n",
    "\n",
    "\n"
   ],
   "metadata": {
    "collapsed": false,
    "pycharm": {
     "name": "#%%\n"
    }
   }
  }
 ],
 "metadata": {
  "kernelspec": {
   "display_name": "Python 3",
   "language": "python",
   "name": "python3"
  },
  "language_info": {
   "codemirror_mode": {
    "name": "ipython",
    "version": 2
   },
   "file_extension": ".py",
   "mimetype": "text/x-python",
   "name": "python",
   "nbconvert_exporter": "python",
   "pygments_lexer": "ipython2",
   "version": "2.7.6"
  }
 },
 "nbformat": 4,
 "nbformat_minor": 0
}